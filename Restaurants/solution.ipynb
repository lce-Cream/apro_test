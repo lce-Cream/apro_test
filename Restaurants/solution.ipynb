{
 "cells": [
  {
   "cell_type": "code",
   "execution_count": 1,
   "metadata": {},
   "outputs": [],
   "source": [
    "import pandas as pd\n",
    "import numpy as np\n",
    "from sklearn.preprocessing import OneHotEncoder, StandardScaler\n",
    "from sklearn.model_selection import train_test_split, cross_validate, cross_val_score, GridSearchCV\n",
    "from sklearn.linear_model import LinearRegression, Lasso, Ridge\n",
    "from sklearn.neighbors import KNeighborsRegressor\n",
    "from sklearn.metrics import mean_squared_error as MSE"
   ]
  },
  {
   "cell_type": "code",
   "execution_count": 2,
   "metadata": {},
   "outputs": [],
   "source": [
    "import matplotlib.pyplot as plt\n",
    "import seaborn as sns\n",
    "from seaborn import heatmap\n",
    "%matplotlib inline"
   ]
  },
  {
   "cell_type": "code",
   "execution_count": 3,
   "metadata": {},
   "outputs": [],
   "source": [
    "from tabulate import tabulate"
   ]
  },
  {
   "cell_type": "markdown",
   "metadata": {},
   "source": [
    "Дано: \n",
    "Информация о выручке ресторанов одной из сетей ресторанов в 20 городах за 2010-2011 год \n",
    "\n",
    "Задача: \n",
    "Предсказать размер выручки за 2012 год \n",
    "\n",
    "restaurants.csv – список 20 городов;\n",
    "\n",
    "data.csv – дополнительные данные о городах, разделенные по неделям: температура, стоимость \n",
    "топлива, уровень безработицы, и является ли эта неделя праздничной (на праздничных неделях \n",
    "посещение ресторанов значительно увеличивается);\n",
    "\n",
    "train.csv – данные по выручке ресторанов, объединенных по городам (в одном городе находится \n",
    "несколько ресторанов);\n",
    "\n",
    "test.csv – датасет, который необходимо дополнить предсказанными данными;\n",
    "\n",
    "Ожидаемый результат: \n",
    "- Текстовое описание решения на русском языке \n",
    "- Python notebook, содержащий решение \n",
    "- Заполненный файл test.csv – добавлена колонка в конце с предсказанным результатом "
   ]
  },
  {
   "cell_type": "code",
   "execution_count": 4,
   "metadata": {},
   "outputs": [],
   "source": [
    "# загружаю данные\n",
    "restaurants = pd.read_csv('./data/restaurants.csv')\n",
    "data = pd.read_csv('./data/data.csv')\n",
    "train = pd.read_csv('./data/train.csv')\n",
    "test = pd.read_csv('./data/test.csv')"
   ]
  },
  {
   "cell_type": "markdown",
   "metadata": {},
   "source": [
    "<h1>Исследование данных</h1>"
   ]
  },
  {
   "cell_type": "code",
   "execution_count": 5,
   "metadata": {},
   "outputs": [
    {
     "name": "stdout",
     "output_type": "stream",
     "text": [
      "╒═════════════╤══════╤══════╤════════════╤════════════╤══════════════╤══════════════╕\n",
      "│ restaraunts │ City │ Size │            │            │              │              │\n",
      "├─────────────┼──────┼──────┼────────────┼────────────┼──────────────┼──────────────┤\n",
      "│ data        │ City │ Date │ Fuel_Price │ IsHoliday  │ Temperature  │ Unemployment │\n",
      "├─────────────┼──────┼──────┼────────────┼────────────┼──────────────┼──────────────┤\n",
      "│ train       │ City │ Date │ IsHoliday  │ Restaurant │ Weekly_Sales │              │\n",
      "├─────────────┼──────┼──────┼────────────┼────────────┼──────────────┼──────────────┤\n",
      "│ test        │ City │ Date │ IsHoliday  │ Restaurant │              │              │\n",
      "╘═════════════╧══════╧══════╧════════════╧════════════╧══════════════╧══════════════╛\n"
     ]
    }
   ],
   "source": [
    "rest_columns = sorted(restaurants.columns.tolist())\n",
    "data_columns = sorted(data.columns.tolist())\n",
    "train_columns = sorted(train.columns.tolist())\n",
    "test_columns = sorted(test.columns.tolist())\n",
    "# map(lambda columns: columns.sort(), (rest_columns, data_columns, train_columns, test_columns))\n",
    "\n",
    "print(tabulate([rest_columns, data_columns, train_columns, test_columns],\\\n",
    "                showindex=['restaraunts', 'data', 'train', 'test'], tablefmt='fancy_grid'))"
   ]
  },
  {
   "cell_type": "markdown",
   "metadata": {},
   "source": [
    "Исходя из увиденного, мой план выглядит следующим образом:\n",
    "1. Подробнее рассмотреть каждый датасет в отдельности\n",
    "2. Проверить каждый датасет на пропущенные значения и по возможности их заполнить\n",
    "3. Сджойнить таблицы 'restaraunts', 'data' и 'train', чтобы получить как можно больше фич\n",
    "4. Произвести feature encoding некоторых атрибутов\n",
    "5. В качестве модели использовать линейную регрессию, также можно попробовать регрессию на KNN"
   ]
  },
  {
   "cell_type": "markdown",
   "metadata": {},
   "source": [
    "<h2>Исследуем restaraunts.csv</h2>"
   ]
  },
  {
   "cell_type": "code",
   "execution_count": 6,
   "metadata": {},
   "outputs": [
    {
     "data": {
      "text/html": [
       "<div>\n",
       "<style scoped>\n",
       "    .dataframe tbody tr th:only-of-type {\n",
       "        vertical-align: middle;\n",
       "    }\n",
       "\n",
       "    .dataframe tbody tr th {\n",
       "        vertical-align: top;\n",
       "    }\n",
       "\n",
       "    .dataframe thead th {\n",
       "        text-align: right;\n",
       "    }\n",
       "</style>\n",
       "<table border=\"1\" class=\"dataframe\">\n",
       "  <thead>\n",
       "    <tr style=\"text-align: right;\">\n",
       "      <th></th>\n",
       "      <th>City</th>\n",
       "      <th>Size</th>\n",
       "    </tr>\n",
       "  </thead>\n",
       "  <tbody>\n",
       "    <tr>\n",
       "      <th>0</th>\n",
       "      <td>1</td>\n",
       "      <td>151315</td>\n",
       "    </tr>\n",
       "    <tr>\n",
       "      <th>1</th>\n",
       "      <td>2</td>\n",
       "      <td>202307</td>\n",
       "    </tr>\n",
       "  </tbody>\n",
       "</table>\n",
       "</div>"
      ],
      "text/plain": [
       "   City    Size\n",
       "0     1  151315\n",
       "1     2  202307"
      ]
     },
     "execution_count": 6,
     "metadata": {},
     "output_type": "execute_result"
    }
   ],
   "source": [
    "# список городов и их размера\n",
    "restaurants.head(2)"
   ]
  },
  {
   "cell_type": "code",
   "execution_count": 7,
   "metadata": {},
   "outputs": [
    {
     "data": {
      "text/plain": [
       "City    0.0\n",
       "Size    0.0\n",
       "dtype: float64"
      ]
     },
     "execution_count": 7,
     "metadata": {},
     "output_type": "execute_result"
    }
   ],
   "source": [
    "restaurants.isna().mean().round(4)*100"
   ]
  },
  {
   "cell_type": "code",
   "execution_count": 8,
   "metadata": {},
   "outputs": [
    {
     "data": {
      "image/png": "[encoded data removed]",
      "text/plain": [
       "<Figure size 432x288 with 1 Axes>"
      ]
     },
     "metadata": {
      "needs_background": "light"
     },
     "output_type": "display_data"
    }
   ],
   "source": [
    "# размеры городов\n",
    "plt.bar(restaurants.City, restaurants.Size, tick_label=range(20));"
   ]
  },
  {
   "cell_type": "code",
   "execution_count": 9,
   "metadata": {},
   "outputs": [
    {
     "data": {
      "image/png": "[encoded data removed]",
      "text/plain": [
       "<Figure size 432x288 with 1 Axes>"
      ]
     },
     "metadata": {},
     "output_type": "display_data"
    }
   ],
   "source": [
    "# соотношение размеров городов\n",
    "plt.pie(restaurants.Size, labels=[f'City {str(i)}' for i in range(20)], radius=2);"
   ]
  },
  {
   "cell_type": "markdown",
   "metadata": {},
   "source": [
    "<h2>Исследуем data.csv</h2>"
   ]
  },
  {
   "cell_type": "code",
   "execution_count": 10,
   "metadata": {},
   "outputs": [
    {
     "data": {
      "text/plain": [
       "City   Date   Temperature  Fuel_Price  Unemployment  IsHoliday\n",
       "False  False  False        False       False         False        3380\n",
       "                                       True          False         260\n",
       "dtype: int64"
      ]
     },
     "execution_count": 10,
     "metadata": {},
     "output_type": "execute_result"
    }
   ],
   "source": [
    "# есть 260 пропущенных значений в атрибуте Unemployment,\n",
    "# далее их можно будет заполнить медианой, так как их количество небольшое\n",
    "data.isna().value_counts()"
   ]
  },
  {
   "cell_type": "code",
   "execution_count": 11,
   "metadata": {},
   "outputs": [
    {
     "data": {
      "text/plain": [
       "City            0.00\n",
       "Date            0.00\n",
       "Temperature     0.00\n",
       "Fuel_Price      0.00\n",
       "Unemployment    7.14\n",
       "IsHoliday       0.00\n",
       "dtype: float64"
      ]
     },
     "execution_count": 11,
     "metadata": {},
     "output_type": "execute_result"
    }
   ],
   "source": [
    "data.isna().mean().round(4)*100"
   ]
  },
  {
   "cell_type": "code",
   "execution_count": 12,
   "metadata": {},
   "outputs": [],
   "source": [
    "# заполняем\n",
    "data.Unemployment.fillna(data.Unemployment.dropna().median(), inplace=True)"
   ]
  },
  {
   "cell_type": "code",
   "execution_count": 13,
   "metadata": {},
   "outputs": [
    {
     "data": {
      "image/png": "[encoded data removed]",
      "text/plain": [
       "<Figure size 432x288 with 1 Axes>"
      ]
     },
     "metadata": {
      "needs_background": "light"
     },
     "output_type": "display_data"
    }
   ],
   "source": [
    "# среднее значение безработности для каждгого города за каждую неделю\n",
    "plt.bar(data.City.unique(), data.groupby('City').Unemployment.mean(), tick_label=data.City.unique());"
   ]
  },
  {
   "cell_type": "code",
   "execution_count": 14,
   "metadata": {},
   "outputs": [
    {
     "data": {
      "image/png": "[encoded data removed]",
      "text/plain": [
       "<Figure size 432x288 with 1 Axes>"
      ]
     },
     "metadata": {
      "needs_background": "light"
     },
     "output_type": "display_data"
    }
   ],
   "source": [
    "# цена топлива практически одинакова во всех городах\n",
    "plt.bar(data.City.unique(), data.groupby('City').Fuel_Price.mean(), tick_label=data.City.unique());"
   ]
  },
  {
   "cell_type": "markdown",
   "metadata": {},
   "source": [
    "<h2>Исследуем train.csv</h2>"
   ]
  },
  {
   "cell_type": "code",
   "execution_count": 15,
   "metadata": {},
   "outputs": [
    {
     "data": {
      "text/plain": [
       "City            0.0\n",
       "Restaurant      0.0\n",
       "Date            0.0\n",
       "Weekly_Sales    0.0\n",
       "IsHoliday       0.0\n",
       "dtype: float64"
      ]
     },
     "execution_count": 15,
     "metadata": {},
     "output_type": "execute_result"
    }
   ],
   "source": [
    "train.isna().mean().round(4)*100"
   ]
  },
  {
   "cell_type": "code",
   "execution_count": 16,
   "metadata": {},
   "outputs": [
    {
     "data": {
      "text/plain": [
       "City   Restaurant  Date   Weekly_Sales  IsHoliday\n",
       "False  False       False  False         False        137938\n",
       "dtype: int64"
      ]
     },
     "execution_count": 16,
     "metadata": {},
     "output_type": "execute_result"
    }
   ],
   "source": [
    "# невалидных значений не наблюдается\n",
    "train.isna().value_counts()"
   ]
  },
  {
   "cell_type": "code",
   "execution_count": 17,
   "metadata": {},
   "outputs": [
    {
     "data": {
      "image/png": "[encoded data removed]",
      "text/plain": [
       "<Figure size 432x288 with 1 Axes>"
      ]
     },
     "metadata": {
      "needs_background": "light"
     },
     "output_type": "display_data"
    }
   ],
   "source": [
    "# проверяю насколько каждый ресторан представлен в выборке\n",
    "# из гистограммы видно, что большая часть ресторанов имеет 2000 записей\n",
    "# разрывы означают, что ресторана с данным id просто нету в выборке\n",
    "train.Restaurant.hist(grid=False, bins=100);"
   ]
  },
  {
   "cell_type": "code",
   "execution_count": 18,
   "metadata": {},
   "outputs": [
    {
     "data": {
      "image/png": "[encoded data removed]",
      "text/plain": [
       "<Figure size 432x288 with 1 Axes>"
      ]
     },
     "metadata": {
      "needs_background": "light"
     },
     "output_type": "display_data"
    }
   ],
   "source": [
    "plt.boxplot(train.Restaurant.value_counts());"
   ]
  },
  {
   "cell_type": "code",
   "execution_count": 19,
   "metadata": {},
   "outputs": [
    {
     "data": {
      "image/png": "[encoded data removed]",
      "text/plain": [
       "<Figure size 432x288 with 1 Axes>"
      ]
     },
     "metadata": {
      "needs_background": "light"
     },
     "output_type": "display_data"
    }
   ],
   "source": [
    "# распределение недельных продаж\n",
    "train.Weekly_Sales[train.Weekly_Sales < 200000].hist(bins=100, density=True);"
   ]
  },
  {
   "cell_type": "markdown",
   "metadata": {},
   "source": [
    "<h2>Feature engineering</h2>"
   ]
  },
  {
   "cell_type": "code",
   "execution_count": 20,
   "metadata": {},
   "outputs": [],
   "source": [
    "# использовав разные группировки, я выяснил, что\n",
    "# в каждом из 20 городов есть 100 ресторанов, каждый из ресторанов имеет около 100 недель (за 2 года) записей\n",
    "# train.groupby(by=['City', 'Restaurant']).count().head(50)"
   ]
  },
  {
   "cell_type": "code",
   "execution_count": 21,
   "metadata": {},
   "outputs": [],
   "source": [
    "train = train.merge(restaurants, on='City', how='left').merge(data)"
   ]
  },
  {
   "cell_type": "code",
   "execution_count": 22,
   "metadata": {},
   "outputs": [],
   "source": [
    "train.IsHoliday = train.IsHoliday.apply(lambda x: int(x))"
   ]
  },
  {
   "cell_type": "code",
   "execution_count": 23,
   "metadata": {},
   "outputs": [],
   "source": [
    "# для корректного парсинга приходиться переместить день и месяц местами\n",
    "def swap_month_day(date):\n",
    "    date = date.split('-')\n",
    "    date[0], date[1] = date[1], date[0]\n",
    "    return pd.Timestamp('-'.join(date))"
   ]
  },
  {
   "cell_type": "code",
   "execution_count": 24,
   "metadata": {},
   "outputs": [],
   "source": [
    "# конвертируем дату в год, месяц и неделю\n",
    "year = train.Date.apply(lambda date: swap_month_day(date).year)\n",
    "month = train.Date.apply(lambda date: swap_month_day(date).month)\n",
    "week = train.Date.apply(lambda date: swap_month_day(date).week)"
   ]
  },
  {
   "cell_type": "code",
   "execution_count": 25,
   "metadata": {},
   "outputs": [
    {
     "data": {
      "text/html": [
       "<div>\n",
       "<style scoped>\n",
       "    .dataframe tbody tr th:only-of-type {\n",
       "        vertical-align: middle;\n",
       "    }\n",
       "\n",
       "    .dataframe tbody tr th {\n",
       "        vertical-align: top;\n",
       "    }\n",
       "\n",
       "    .dataframe thead th {\n",
       "        text-align: right;\n",
       "    }\n",
       "</style>\n",
       "<table border=\"1\" class=\"dataframe\">\n",
       "  <thead>\n",
       "    <tr style=\"text-align: right;\">\n",
       "      <th></th>\n",
       "      <th>year</th>\n",
       "      <th>month</th>\n",
       "      <th>week</th>\n",
       "    </tr>\n",
       "  </thead>\n",
       "  <tbody>\n",
       "    <tr>\n",
       "      <th>0</th>\n",
       "      <td>2010</td>\n",
       "      <td>2</td>\n",
       "      <td>5</td>\n",
       "    </tr>\n",
       "    <tr>\n",
       "      <th>1</th>\n",
       "      <td>2010</td>\n",
       "      <td>2</td>\n",
       "      <td>5</td>\n",
       "    </tr>\n",
       "  </tbody>\n",
       "</table>\n",
       "</div>"
      ],
      "text/plain": [
       "   year  month  week\n",
       "0  2010      2     5\n",
       "1  2010      2     5"
      ]
     },
     "execution_count": 25,
     "metadata": {},
     "output_type": "execute_result"
    }
   ],
   "source": [
    "date = pd.DataFrame({'year': year, 'month': month, 'week': week})\n",
    "train = train.join(date).drop(columns=['Date'])\n",
    "date.head(2)"
   ]
  },
  {
   "cell_type": "code",
   "execution_count": 26,
   "metadata": {},
   "outputs": [
    {
     "data": {
      "text/html": [
       "<div>\n",
       "<style scoped>\n",
       "    .dataframe tbody tr th:only-of-type {\n",
       "        vertical-align: middle;\n",
       "    }\n",
       "\n",
       "    .dataframe tbody tr th {\n",
       "        vertical-align: top;\n",
       "    }\n",
       "\n",
       "    .dataframe thead th {\n",
       "        text-align: right;\n",
       "    }\n",
       "</style>\n",
       "<table border=\"1\" class=\"dataframe\">\n",
       "  <thead>\n",
       "    <tr style=\"text-align: right;\">\n",
       "      <th></th>\n",
       "      <th>City</th>\n",
       "      <th>Restaurant</th>\n",
       "      <th>Weekly_Sales</th>\n",
       "      <th>IsHoliday</th>\n",
       "      <th>Size</th>\n",
       "      <th>Temperature</th>\n",
       "      <th>Fuel_Price</th>\n",
       "      <th>Unemployment</th>\n",
       "      <th>year</th>\n",
       "      <th>month</th>\n",
       "      <th>week</th>\n",
       "    </tr>\n",
       "  </thead>\n",
       "  <tbody>\n",
       "    <tr>\n",
       "      <th>0</th>\n",
       "      <td>1</td>\n",
       "      <td>1</td>\n",
       "      <td>24924.50</td>\n",
       "      <td>0</td>\n",
       "      <td>151315</td>\n",
       "      <td>42.31</td>\n",
       "      <td>2.572</td>\n",
       "      <td>8.106</td>\n",
       "      <td>2010</td>\n",
       "      <td>2</td>\n",
       "      <td>5</td>\n",
       "    </tr>\n",
       "    <tr>\n",
       "      <th>1</th>\n",
       "      <td>1</td>\n",
       "      <td>2</td>\n",
       "      <td>50605.27</td>\n",
       "      <td>0</td>\n",
       "      <td>151315</td>\n",
       "      <td>42.31</td>\n",
       "      <td>2.572</td>\n",
       "      <td>8.106</td>\n",
       "      <td>2010</td>\n",
       "      <td>2</td>\n",
       "      <td>5</td>\n",
       "    </tr>\n",
       "  </tbody>\n",
       "</table>\n",
       "</div>"
      ],
      "text/plain": [
       "   City  Restaurant  Weekly_Sales  IsHoliday    Size  Temperature  Fuel_Price  \\\n",
       "0     1           1      24924.50          0  151315        42.31       2.572   \n",
       "1     1           2      50605.27          0  151315        42.31       2.572   \n",
       "\n",
       "   Unemployment  year  month  week  \n",
       "0         8.106  2010      2     5  \n",
       "1         8.106  2010      2     5  "
      ]
     },
     "execution_count": 26,
     "metadata": {},
     "output_type": "execute_result"
    }
   ],
   "source": [
    "train.head(2)"
   ]
  },
  {
   "cell_type": "code",
   "execution_count": 27,
   "metadata": {
    "scrolled": true
   },
   "outputs": [
    {
     "data": {
      "text/html": [
       "<div>\n",
       "<style scoped>\n",
       "    .dataframe tbody tr th:only-of-type {\n",
       "        vertical-align: middle;\n",
       "    }\n",
       "\n",
       "    .dataframe tbody tr th {\n",
       "        vertical-align: top;\n",
       "    }\n",
       "\n",
       "    .dataframe thead th {\n",
       "        text-align: right;\n",
       "    }\n",
       "</style>\n",
       "<table border=\"1\" class=\"dataframe\">\n",
       "  <thead>\n",
       "    <tr style=\"text-align: right;\">\n",
       "      <th></th>\n",
       "      <th>City</th>\n",
       "      <th>Restaurant</th>\n",
       "      <th>Weekly_Sales</th>\n",
       "      <th>IsHoliday</th>\n",
       "      <th>Size</th>\n",
       "      <th>Temperature</th>\n",
       "      <th>Fuel_Price</th>\n",
       "      <th>Unemployment</th>\n",
       "      <th>year</th>\n",
       "      <th>month</th>\n",
       "      <th>week</th>\n",
       "    </tr>\n",
       "  </thead>\n",
       "  <tbody>\n",
       "    <tr>\n",
       "      <th>count</th>\n",
       "      <td>137938.000000</td>\n",
       "      <td>137938.000000</td>\n",
       "      <td>137938.000000</td>\n",
       "      <td>137938.000000</td>\n",
       "      <td>137938.000000</td>\n",
       "      <td>137938.000000</td>\n",
       "      <td>137938.000000</td>\n",
       "      <td>137938.000000</td>\n",
       "      <td>137938.000000</td>\n",
       "      <td>137938.000000</td>\n",
       "      <td>137938.000000</td>\n",
       "    </tr>\n",
       "    <tr>\n",
       "      <th>mean</th>\n",
       "      <td>10.528919</td>\n",
       "      <td>43.511679</td>\n",
       "      <td>18113.668509</td>\n",
       "      <td>0.080739</td>\n",
       "      <td>144945.975482</td>\n",
       "      <td>59.158765</td>\n",
       "      <td>3.186479</td>\n",
       "      <td>7.858696</td>\n",
       "      <td>2010.520850</td>\n",
       "      <td>6.853340</td>\n",
       "      <td>27.474728</td>\n",
       "    </tr>\n",
       "    <tr>\n",
       "      <th>std</th>\n",
       "      <td>5.786785</td>\n",
       "      <td>29.635082</td>\n",
       "      <td>25831.172755</td>\n",
       "      <td>0.272435</td>\n",
       "      <td>59541.010885</td>\n",
       "      <td>19.109096</td>\n",
       "      <td>0.434377</td>\n",
       "      <td>1.634122</td>\n",
       "      <td>0.499567</td>\n",
       "      <td>3.330036</td>\n",
       "      <td>14.542317</td>\n",
       "    </tr>\n",
       "    <tr>\n",
       "      <th>min</th>\n",
       "      <td>1.000000</td>\n",
       "      <td>1.000000</td>\n",
       "      <td>-1098.000000</td>\n",
       "      <td>0.000000</td>\n",
       "      <td>34875.000000</td>\n",
       "      <td>-2.060000</td>\n",
       "      <td>2.514000</td>\n",
       "      <td>5.143000</td>\n",
       "      <td>2010.000000</td>\n",
       "      <td>1.000000</td>\n",
       "      <td>1.000000</td>\n",
       "    </tr>\n",
       "    <tr>\n",
       "      <th>25%</th>\n",
       "      <td>6.000000</td>\n",
       "      <td>19.000000</td>\n",
       "      <td>2772.745000</td>\n",
       "      <td>0.000000</td>\n",
       "      <td>112238.000000</td>\n",
       "      <td>45.612500</td>\n",
       "      <td>2.792000</td>\n",
       "      <td>6.855000</td>\n",
       "      <td>2010.000000</td>\n",
       "      <td>4.000000</td>\n",
       "      <td>15.000000</td>\n",
       "    </tr>\n",
       "    <tr>\n",
       "      <th>50%</th>\n",
       "      <td>11.000000</td>\n",
       "      <td>36.000000</td>\n",
       "      <td>8598.760000</td>\n",
       "      <td>0.000000</td>\n",
       "      <td>151315.000000</td>\n",
       "      <td>61.010000</td>\n",
       "      <td>3.103000</td>\n",
       "      <td>7.574000</td>\n",
       "      <td>2011.000000</td>\n",
       "      <td>7.000000</td>\n",
       "      <td>28.000000</td>\n",
       "    </tr>\n",
       "    <tr>\n",
       "      <th>75%</th>\n",
       "      <td>15.000000</td>\n",
       "      <td>71.000000</td>\n",
       "      <td>22275.440000</td>\n",
       "      <td>0.000000</td>\n",
       "      <td>203742.000000</td>\n",
       "      <td>74.040000</td>\n",
       "      <td>3.569000</td>\n",
       "      <td>8.324000</td>\n",
       "      <td>2011.000000</td>\n",
       "      <td>10.000000</td>\n",
       "      <td>40.000000</td>\n",
       "    </tr>\n",
       "    <tr>\n",
       "      <th>max</th>\n",
       "      <td>20.000000</td>\n",
       "      <td>99.000000</td>\n",
       "      <td>693099.360000</td>\n",
       "      <td>1.000000</td>\n",
       "      <td>219622.000000</td>\n",
       "      <td>99.220000</td>\n",
       "      <td>4.211000</td>\n",
       "      <td>14.313000</td>\n",
       "      <td>2011.000000</td>\n",
       "      <td>12.000000</td>\n",
       "      <td>52.000000</td>\n",
       "    </tr>\n",
       "  </tbody>\n",
       "</table>\n",
       "</div>"
      ],
      "text/plain": [
       "                City     Restaurant   Weekly_Sales      IsHoliday  \\\n",
       "count  137938.000000  137938.000000  137938.000000  137938.000000   \n",
       "mean       10.528919      43.511679   18113.668509       0.080739   \n",
       "std         5.786785      29.635082   25831.172755       0.272435   \n",
       "min         1.000000       1.000000   -1098.000000       0.000000   \n",
       "25%         6.000000      19.000000    2772.745000       0.000000   \n",
       "50%        11.000000      36.000000    8598.760000       0.000000   \n",
       "75%        15.000000      71.000000   22275.440000       0.000000   \n",
       "max        20.000000      99.000000  693099.360000       1.000000   \n",
       "\n",
       "                Size    Temperature     Fuel_Price   Unemployment  \\\n",
       "count  137938.000000  137938.000000  137938.000000  137938.000000   \n",
       "mean   144945.975482      59.158765       3.186479       7.858696   \n",
       "std     59541.010885      19.109096       0.434377       1.634122   \n",
       "min     34875.000000      -2.060000       2.514000       5.143000   \n",
       "25%    112238.000000      45.612500       2.792000       6.855000   \n",
       "50%    151315.000000      61.010000       3.103000       7.574000   \n",
       "75%    203742.000000      74.040000       3.569000       8.324000   \n",
       "max    219622.000000      99.220000       4.211000      14.313000   \n",
       "\n",
       "                year          month           week  \n",
       "count  137938.000000  137938.000000  137938.000000  \n",
       "mean     2010.520850       6.853340      27.474728  \n",
       "std         0.499567       3.330036      14.542317  \n",
       "min      2010.000000       1.000000       1.000000  \n",
       "25%      2010.000000       4.000000      15.000000  \n",
       "50%      2011.000000       7.000000      28.000000  \n",
       "75%      2011.000000      10.000000      40.000000  \n",
       "max      2011.000000      12.000000      52.000000  "
      ]
     },
     "execution_count": 27,
     "metadata": {},
     "output_type": "execute_result"
    }
   ],
   "source": [
    "train.describe()"
   ]
  },
  {
   "cell_type": "code",
   "execution_count": 28,
   "metadata": {},
   "outputs": [
    {
     "data": {
      "image/png": "[encoded data removed]",
      "text/plain": [
       "<Figure size 1080x720 with 4 Axes>"
      ]
     },
     "metadata": {
      "needs_background": "light"
     },
     "output_type": "display_data"
    }
   ],
   "source": [
    "figure, ((ax1, ax2), (ax3, ax4)) = plt.subplots(nrows=2, ncols=2, figsize=(15,10))\n",
    "ax1.bar(range(1,12), train.groupby(['year','month']).Weekly_Sales.mean()[2010], tick_label=range(2,13))\n",
    "ax2.bar(range(12), train.groupby(['year','month']).Weekly_Sales.mean()[2011], tick_label=range(1,13))\n",
    "ax3.bar(range(1,12), train.groupby(['year','month']).IsHoliday.mean()[2010], tick_label=range(2,13))\n",
    "ax4.bar(range(12), train.groupby(['year','month']).IsHoliday.mean()[2011], tick_label=range(1,13))\n",
    "\n",
    "ax1.set_title('Mean weekly sales by month during 2010')\n",
    "ax1.set_xlabel('Month')\n",
    "ax1.set_ylabel('Sales')\n",
    "\n",
    "ax2.set_title('Mean weekly sales by month during 2011')\n",
    "ax2.set_xlabel('Month')\n",
    "ax2.set_ylabel('Sales')\n",
    "\n",
    "ax3.set_title('Holiday weeks by month during 2010')\n",
    "ax3.set_xlabel('Month')\n",
    "ax3.set_ylabel('weeks, %')\n",
    "\n",
    "ax4.set_title('Holiday weeks by month during 2011')\n",
    "ax4.set_xlabel('Month')\n",
    "ax4.set_ylabel('Weeks, %');\n"
   ]
  },
  {
   "cell_type": "markdown",
   "metadata": {},
   "source": [
    "По графикам можно заметить, что к концу года количество праздничных недель значительно увиличивается и доходит до 25% от всех недель в последних двух месяцах. Также это совпадает с увеличением продаж в этих месяцах. Поэтому можно попробовать добавить новую фичу, которая будет сигнализировать является ли данный месяц последним либо предпоследним в году."
   ]
  },
  {
   "cell_type": "code",
   "execution_count": 29,
   "metadata": {},
   "outputs": [],
   "source": [
    "train['IsNovOrDec'] = train.month.apply(lambda date: 1 if date in (11,12) else 0)"
   ]
  },
  {
   "cell_type": "code",
   "execution_count": 30,
   "metadata": {},
   "outputs": [
    {
     "data": {
      "image/png": "[encoded data removed]",
      "text/plain": [
       "<Figure size 1080x1080 with 2 Axes>"
      ]
     },
     "metadata": {
      "needs_background": "light"
     },
     "output_type": "display_data"
    }
   ],
   "source": [
    "correlation_matrix = train[['Weekly_Sales', 'City', 'Restaurant', 'IsHoliday', 'Size',\\\n",
    "                            'Temperature', 'Fuel_Price', 'Unemployment', 'year',\\\n",
    "                            'month', 'week', 'IsNovOrDec']].corr()\n",
    "plt.figure(figsize=(15,15))\n",
    "heatmap(correlation_matrix, center=0, square=True, cmap=\"BrBG\");"
   ]
  },
  {
   "cell_type": "markdown",
   "metadata": {},
   "source": [
    "Fuel и year имеют слишком сильную линейную зависимость (коллинеарность), при этом year проктически не кореллирует с другими фичами, поэтому я попробую отказаться от фичи year. Такую же логику применяю и к паре week month, оставляю week."
   ]
  },
  {
   "cell_type": "code",
   "execution_count": 31,
   "metadata": {},
   "outputs": [],
   "source": [
    "train_before_encoding = train.copy()"
   ]
  },
  {
   "cell_type": "code",
   "execution_count": 32,
   "metadata": {},
   "outputs": [
    {
     "data": {
      "text/plain": [
       "(137938, 100)"
      ]
     },
     "execution_count": 32,
     "metadata": {},
     "output_type": "execute_result"
    }
   ],
   "source": [
    "# попробуем закодировать категориальные фичи Restaurant и City\n",
    "encoder = OneHotEncoder()\n",
    "encoded_restaurants = pd.DataFrame(encoder.fit_transform(train[['Restaurant', 'City']]).toarray())\n",
    "encoded_restaurants.shape\n",
    "# и получаем 100 новых фич"
   ]
  },
  {
   "cell_type": "code",
   "execution_count": 33,
   "metadata": {},
   "outputs": [],
   "source": [
    "# теперь добавим их в тренировочный датафрейм\n",
    "train = train.join(encoded_restaurants)\n",
    "train.drop(columns=['City','Restaurant','year','month'], inplace=True)"
   ]
  },
  {
   "cell_type": "code",
   "execution_count": 34,
   "metadata": {},
   "outputs": [
    {
     "data": {
      "text/html": [
       "<div>\n",
       "<style scoped>\n",
       "    .dataframe tbody tr th:only-of-type {\n",
       "        vertical-align: middle;\n",
       "    }\n",
       "\n",
       "    .dataframe tbody tr th {\n",
       "        vertical-align: top;\n",
       "    }\n",
       "\n",
       "    .dataframe thead th {\n",
       "        text-align: right;\n",
       "    }\n",
       "</style>\n",
       "<table border=\"1\" class=\"dataframe\">\n",
       "  <thead>\n",
       "    <tr style=\"text-align: right;\">\n",
       "      <th></th>\n",
       "      <th>Weekly_Sales</th>\n",
       "      <th>IsHoliday</th>\n",
       "      <th>Size</th>\n",
       "      <th>Temperature</th>\n",
       "      <th>Fuel_Price</th>\n",
       "      <th>Unemployment</th>\n",
       "      <th>week</th>\n",
       "      <th>IsNovOrDec</th>\n",
       "      <th>0</th>\n",
       "      <th>1</th>\n",
       "      <th>...</th>\n",
       "      <th>90</th>\n",
       "      <th>91</th>\n",
       "      <th>92</th>\n",
       "      <th>93</th>\n",
       "      <th>94</th>\n",
       "      <th>95</th>\n",
       "      <th>96</th>\n",
       "      <th>97</th>\n",
       "      <th>98</th>\n",
       "      <th>99</th>\n",
       "    </tr>\n",
       "  </thead>\n",
       "  <tbody>\n",
       "    <tr>\n",
       "      <th>0</th>\n",
       "      <td>24924.50</td>\n",
       "      <td>0</td>\n",
       "      <td>151315</td>\n",
       "      <td>42.31</td>\n",
       "      <td>2.572</td>\n",
       "      <td>8.106</td>\n",
       "      <td>5</td>\n",
       "      <td>0</td>\n",
       "      <td>1.0</td>\n",
       "      <td>0.0</td>\n",
       "      <td>...</td>\n",
       "      <td>0.0</td>\n",
       "      <td>0.0</td>\n",
       "      <td>0.0</td>\n",
       "      <td>0.0</td>\n",
       "      <td>0.0</td>\n",
       "      <td>0.0</td>\n",
       "      <td>0.0</td>\n",
       "      <td>0.0</td>\n",
       "      <td>0.0</td>\n",
       "      <td>0.0</td>\n",
       "    </tr>\n",
       "    <tr>\n",
       "      <th>1</th>\n",
       "      <td>50605.27</td>\n",
       "      <td>0</td>\n",
       "      <td>151315</td>\n",
       "      <td>42.31</td>\n",
       "      <td>2.572</td>\n",
       "      <td>8.106</td>\n",
       "      <td>5</td>\n",
       "      <td>0</td>\n",
       "      <td>0.0</td>\n",
       "      <td>1.0</td>\n",
       "      <td>...</td>\n",
       "      <td>0.0</td>\n",
       "      <td>0.0</td>\n",
       "      <td>0.0</td>\n",
       "      <td>0.0</td>\n",
       "      <td>0.0</td>\n",
       "      <td>0.0</td>\n",
       "      <td>0.0</td>\n",
       "      <td>0.0</td>\n",
       "      <td>0.0</td>\n",
       "      <td>0.0</td>\n",
       "    </tr>\n",
       "    <tr>\n",
       "      <th>2</th>\n",
       "      <td>13740.12</td>\n",
       "      <td>0</td>\n",
       "      <td>151315</td>\n",
       "      <td>42.31</td>\n",
       "      <td>2.572</td>\n",
       "      <td>8.106</td>\n",
       "      <td>5</td>\n",
       "      <td>0</td>\n",
       "      <td>0.0</td>\n",
       "      <td>0.0</td>\n",
       "      <td>...</td>\n",
       "      <td>0.0</td>\n",
       "      <td>0.0</td>\n",
       "      <td>0.0</td>\n",
       "      <td>0.0</td>\n",
       "      <td>0.0</td>\n",
       "      <td>0.0</td>\n",
       "      <td>0.0</td>\n",
       "      <td>0.0</td>\n",
       "      <td>0.0</td>\n",
       "      <td>0.0</td>\n",
       "    </tr>\n",
       "  </tbody>\n",
       "</table>\n",
       "<p>3 rows × 108 columns</p>\n",
       "</div>"
      ],
      "text/plain": [
       "   Weekly_Sales  IsHoliday    Size  Temperature  Fuel_Price  Unemployment  \\\n",
       "0      24924.50          0  151315        42.31       2.572         8.106   \n",
       "1      50605.27          0  151315        42.31       2.572         8.106   \n",
       "2      13740.12          0  151315        42.31       2.572         8.106   \n",
       "\n",
       "   week  IsNovOrDec    0    1  ...   90   91   92   93   94   95   96   97  \\\n",
       "0     5           0  1.0  0.0  ...  0.0  0.0  0.0  0.0  0.0  0.0  0.0  0.0   \n",
       "1     5           0  0.0  1.0  ...  0.0  0.0  0.0  0.0  0.0  0.0  0.0  0.0   \n",
       "2     5           0  0.0  0.0  ...  0.0  0.0  0.0  0.0  0.0  0.0  0.0  0.0   \n",
       "\n",
       "    98   99  \n",
       "0  0.0  0.0  \n",
       "1  0.0  0.0  \n",
       "2  0.0  0.0  \n",
       "\n",
       "[3 rows x 108 columns]"
      ]
     },
     "execution_count": 34,
     "metadata": {},
     "output_type": "execute_result"
    }
   ],
   "source": [
    "# результат\n",
    "train.head(3)"
   ]
  },
  {
   "cell_type": "markdown",
   "metadata": {},
   "source": [
    "<h2>Обучаем модель</h2>"
   ]
  },
  {
   "cell_type": "markdown",
   "metadata": {},
   "source": [
    "### Линейная регрессия"
   ]
  },
  {
   "cell_type": "code",
   "execution_count": 35,
   "metadata": {},
   "outputs": [],
   "source": [
    "features = train.columns.tolist()\n",
    "features.remove('Weekly_Sales')\n",
    "target = 'Weekly_Sales'"
   ]
  },
  {
   "cell_type": "code",
   "execution_count": 36,
   "metadata": {},
   "outputs": [],
   "source": [
    "LinReg = LinearRegression()\n",
    "LinReg_result = cross_validate(LinReg, train[features], train[target],\\\n",
    "                               scoring='neg_mean_squared_error',cv=2)"
   ]
  },
  {
   "cell_type": "code",
   "execution_count": 37,
   "metadata": {},
   "outputs": [
    {
     "name": "stdout",
     "output_type": "stream",
     "text": [
      "╒═════════════════╤══════════╕\n",
      "│ mean fit time   │     2.17 │\n",
      "├─────────────────┼──────────┤\n",
      "│ mean score time │     0.09 │\n",
      "├─────────────────┼──────────┤\n",
      "│ mean test RMSE  │ 16521.6  │\n",
      "╘═════════════════╧══════════╛\n"
     ]
    }
   ],
   "source": [
    "mean_fit_time = [round(LinReg_result['fit_time'].mean(), 2)]\n",
    "mean_score_time = [round(LinReg_result['score_time'].mean(), 2)]\n",
    "mean_test_score = [(-LinReg_result['test_score'].mean())**0.5]\n",
    "\n",
    "print(tabulate([mean_fit_time, mean_score_time, mean_test_score],\\\n",
    "                showindex=['mean fit time', 'mean score time', 'mean test RMSE'], tablefmt='fancy_grid'))\n"
   ]
  },
  {
   "cell_type": "markdown",
   "metadata": {},
   "source": [
    "### KNN регрессия"
   ]
  },
  {
   "cell_type": "code",
   "execution_count": 38,
   "metadata": {},
   "outputs": [
    {
     "data": {
      "text/html": [
       "<div>\n",
       "<style scoped>\n",
       "    .dataframe tbody tr th:only-of-type {\n",
       "        vertical-align: middle;\n",
       "    }\n",
       "\n",
       "    .dataframe tbody tr th {\n",
       "        vertical-align: top;\n",
       "    }\n",
       "\n",
       "    .dataframe thead th {\n",
       "        text-align: right;\n",
       "    }\n",
       "</style>\n",
       "<table border=\"1\" class=\"dataframe\">\n",
       "  <thead>\n",
       "    <tr style=\"text-align: right;\">\n",
       "      <th></th>\n",
       "      <th>City</th>\n",
       "      <th>Restaurant</th>\n",
       "      <th>Weekly_Sales</th>\n",
       "      <th>IsHoliday</th>\n",
       "      <th>Size</th>\n",
       "      <th>Temperature</th>\n",
       "      <th>Fuel_Price</th>\n",
       "      <th>Unemployment</th>\n",
       "      <th>year</th>\n",
       "      <th>month</th>\n",
       "      <th>week</th>\n",
       "      <th>IsNovOrDec</th>\n",
       "    </tr>\n",
       "  </thead>\n",
       "  <tbody>\n",
       "    <tr>\n",
       "      <th>0</th>\n",
       "      <td>1</td>\n",
       "      <td>1</td>\n",
       "      <td>24924.50</td>\n",
       "      <td>0</td>\n",
       "      <td>151315</td>\n",
       "      <td>42.31</td>\n",
       "      <td>2.572</td>\n",
       "      <td>8.106</td>\n",
       "      <td>2010</td>\n",
       "      <td>2</td>\n",
       "      <td>5</td>\n",
       "      <td>0</td>\n",
       "    </tr>\n",
       "    <tr>\n",
       "      <th>1</th>\n",
       "      <td>1</td>\n",
       "      <td>2</td>\n",
       "      <td>50605.27</td>\n",
       "      <td>0</td>\n",
       "      <td>151315</td>\n",
       "      <td>42.31</td>\n",
       "      <td>2.572</td>\n",
       "      <td>8.106</td>\n",
       "      <td>2010</td>\n",
       "      <td>2</td>\n",
       "      <td>5</td>\n",
       "      <td>0</td>\n",
       "    </tr>\n",
       "  </tbody>\n",
       "</table>\n",
       "</div>"
      ],
      "text/plain": [
       "   City  Restaurant  Weekly_Sales  IsHoliday    Size  Temperature  Fuel_Price  \\\n",
       "0     1           1      24924.50          0  151315        42.31       2.572   \n",
       "1     1           2      50605.27          0  151315        42.31       2.572   \n",
       "\n",
       "   Unemployment  year  month  week  IsNovOrDec  \n",
       "0         8.106  2010      2     5           0  \n",
       "1         8.106  2010      2     5           0  "
      ]
     },
     "execution_count": 38,
     "metadata": {},
     "output_type": "execute_result"
    }
   ],
   "source": [
    "train_before_encoding.head(2)"
   ]
  },
  {
   "cell_type": "code",
   "execution_count": 39,
   "metadata": {},
   "outputs": [],
   "source": [
    "features = train_before_encoding.columns.tolist()\n",
    "features.remove('Weekly_Sales')\n",
    "target = 'Weekly_Sales'"
   ]
  },
  {
   "cell_type": "code",
   "execution_count": 40,
   "metadata": {},
   "outputs": [],
   "source": [
    "# попробуем найти оптимальное количество соседей\n",
    "KNR_result_dict = {}\n",
    "k_range = [1, 10, 50, 100, 150]\n",
    "for k in k_range:\n",
    "    KNR = KNeighborsRegressor(n_neighbors=k, n_jobs=2)\n",
    "    \n",
    "    KNR_result_dict[k] = (cross_validate(KNR, train_before_encoding[features],\\\n",
    "                                         train_before_encoding[target],\\\n",
    "                                         return_train_score=True,\\\n",
    "                                         cv=2, scoring='neg_mean_squared_error'))"
   ]
  },
  {
   "cell_type": "code",
   "execution_count": 41,
   "metadata": {},
   "outputs": [],
   "source": [
    "KNR_test_rmse_list = [(-res['test_score'].mean())**0.5 for res in KNR_result_dict.values()]\n",
    "KNR_train_rmse_list = [(-res['train_score'].mean())**0.5 for res in KNR_result_dict.values()]\n",
    "KNR_fit_time_list = [res['fit_time'].mean() for res in KNR_result_dict.values()]\n",
    "KNR_score_time_list = [res['score_time'].mean() for res in KNR_result_dict.values()]"
   ]
  },
  {
   "cell_type": "code",
   "execution_count": 42,
   "metadata": {},
   "outputs": [
    {
     "data": {
      "image/png": "[encoded data removed]",
      "text/plain": [
       "<Figure size 1440x360 with 2 Axes>"
      ]
     },
     "metadata": {
      "needs_background": "light"
     },
     "output_type": "display_data"
    }
   ],
   "source": [
    "figure, (ax1, ax2) = plt.subplots(ncols=2, figsize=(20,5))\n",
    "ax1.plot(k_range, KNR_fit_time_list)\n",
    "ax2.plot(k_range, KNR_score_time_list)\n",
    "\n",
    "ax1.set_title('KNN regression')\n",
    "ax1.set_xlabel('k-neighbors')\n",
    "ax1.set_ylabel('fit time')\n",
    "ax1.set_xticks(k_range)\n",
    "ax1.grid(True)\n",
    "\n",
    "ax2.set_title('KNN regression')\n",
    "ax2.set_xlabel('k-neighbors')\n",
    "ax2.set_ylabel('score time')\n",
    "ax2.set_xticks(k_range)\n",
    "ax2.grid(True)\n",
    "plt.show()"
   ]
  },
  {
   "cell_type": "code",
   "execution_count": 43,
   "metadata": {},
   "outputs": [
    {
     "data": {
      "image/png": "[encoded data removed]",
      "text/plain": [
       "<Figure size 720x288 with 1 Axes>"
      ]
     },
     "metadata": {
      "needs_background": "light"
     },
     "output_type": "display_data"
    }
   ],
   "source": [
    "plt.figure(figsize=(10, 4))\n",
    "plt.plot(k_range, KNR_test_rmse_list)\n",
    "plt.plot(k_range, KNR_train_rmse_list)\n",
    "plt.legend(['test', 'train'])\n",
    "plt.axvline(k_range[np.argmin(KNR_test_rmse_list)], color='red', lw=5, alpha=0.5)\n",
    "plt.title('KNN regression')\n",
    "plt.xlabel('k-neighbors')\n",
    "plt.ylabel('RMSE')\n",
    "plt.grid(True)\n",
    "plt.xticks(k_range)\n",
    "plt.show()"
   ]
  },
  {
   "cell_type": "markdown",
   "metadata": {},
   "source": [
    "Лучший результат достигается при одном соседе. Такое чувство, что в кросс валидации не сработал сплит датасета на тест и трейн, в результате получилось, что регрессор просто находит конкретную точку с нужным значением в пространстве фич, но откуда тогда правдоподобный RMSE?"
   ]
  },
  {
   "cell_type": "markdown",
   "metadata": {},
   "source": [
    "Попробуем сделать с ручным сплитом."
   ]
  },
  {
   "cell_type": "code",
   "execution_count": 44,
   "metadata": {},
   "outputs": [],
   "source": [
    "x_train, x_test, y_train, y_test = train_test_split(train_before_encoding[features],\\\n",
    "                                                    train_before_encoding[target],\\\n",
    "                                                    test_size=0.3, random_state=24)"
   ]
  },
  {
   "cell_type": "code",
   "execution_count": 45,
   "metadata": {},
   "outputs": [
    {
     "data": {
      "image/png": "[encoded data removed]",
      "text/plain": [
       "<Figure size 432x288 with 1 Axes>"
      ]
     },
     "metadata": {
      "needs_background": "light"
     },
     "output_type": "display_data"
    }
   ],
   "source": [
    "rmse_list = []\n",
    "for k in [1, 10, 50, 100]:\n",
    "    KNR = KNeighborsRegressor(n_neighbors=k)\n",
    "    KNR.fit(x_train, y_train)\n",
    "    KNR_predicted = KNR.predict(x_test)\n",
    "    rmse_list.append(MSE(y_test, KNR_predicted)**0.5)\n",
    "\n",
    "plt.plot([1,10,50,100], rmse_list)\n",
    "plt.title('KNN regression')\n",
    "plt.xlabel('k-neighbors')\n",
    "plt.ylabel('RMSE')\n",
    "plt.grid(True);"
   ]
  },
  {
   "cell_type": "markdown",
   "metadata": {},
   "source": [
    "Теперь выглядит лучше, но как бы то ни было, результат всё равно хуже линейной регрессии. При этом KNN регрессия требует слишком много мощности для вычисления расстояний между большим количеством соседей в большом пространстве фич."
   ]
  },
  {
   "cell_type": "markdown",
   "metadata": {},
   "source": [
    "## Результаты"
   ]
  },
  {
   "cell_type": "code",
   "execution_count": 46,
   "metadata": {},
   "outputs": [],
   "source": [
    "test_merged = test.merge(restaurants, on='City', how='left').merge(data)"
   ]
  },
  {
   "cell_type": "code",
   "execution_count": 47,
   "metadata": {},
   "outputs": [],
   "source": [
    "year = test_merged.Date.apply(lambda date: swap_month_day(date).year)\n",
    "month = test_merged.Date.apply(lambda date: swap_month_day(date).month)\n",
    "week = test_merged.Date.apply(lambda date: swap_month_day(date).week)\n",
    "date = pd.DataFrame({'year': year, 'month': month, 'week': week})\n",
    "test_merged = test_merged.join(date).drop(columns=['Date'])"
   ]
  },
  {
   "cell_type": "code",
   "execution_count": 48,
   "metadata": {},
   "outputs": [],
   "source": [
    "test_merged['IsNovOrDec'] = test_merged.month.apply(lambda date: 1 if date in (11,12) else 0)"
   ]
  },
  {
   "cell_type": "code",
   "execution_count": 49,
   "metadata": {},
   "outputs": [],
   "source": [
    "encoder = OneHotEncoder()\n",
    "encoded_restaurants = pd.DataFrame(encoder.fit_transform(test_merged[['Restaurant', 'City']]).toarray())\n",
    "\n",
    "test_merged = test_merged.join(encoded_restaurants)\n",
    "test_merged.drop(columns=['City','Restaurant','year','month'], inplace=True)"
   ]
  },
  {
   "cell_type": "code",
   "execution_count": 50,
   "metadata": {},
   "outputs": [
    {
     "data": {
      "text/plain": [
       "{99, 'Weekly_Sales'}"
      ]
     },
     "execution_count": 50,
     "metadata": {},
     "output_type": "execute_result"
    }
   ],
   "source": [
    "set(train.columns) - set(test_merged.columns)"
   ]
  },
  {
   "cell_type": "markdown",
   "metadata": {},
   "source": [
    "В тестовом датафрейме не представлен 99 рестроран, поэтому перед фитом регрессора его нужно удалить."
   ]
  },
  {
   "cell_type": "code",
   "execution_count": 51,
   "metadata": {},
   "outputs": [],
   "source": [
    "LinReg.fit(train.drop(columns=['Weekly_Sales',99]), train.Weekly_Sales)\n",
    "predicted = LinReg.predict(test_merged)"
   ]
  },
  {
   "cell_type": "code",
   "execution_count": 52,
   "metadata": {},
   "outputs": [
    {
     "data": {
      "text/plain": [
       "(59611,)"
      ]
     },
     "execution_count": 52,
     "metadata": {},
     "output_type": "execute_result"
    }
   ],
   "source": [
    "predicted.shape"
   ]
  },
  {
   "cell_type": "code",
   "execution_count": 53,
   "metadata": {},
   "outputs": [
    {
     "data": {
      "text/plain": [
       "(59611, 4)"
      ]
     },
     "execution_count": 53,
     "metadata": {},
     "output_type": "execute_result"
    }
   ],
   "source": [
    "test.shape"
   ]
  },
  {
   "cell_type": "code",
   "execution_count": 54,
   "metadata": {},
   "outputs": [],
   "source": [
    "test_predicted = test.join(pd.DataFrame(predicted, columns=['Weekly_Sales_prediction']))"
   ]
  },
  {
   "cell_type": "code",
   "execution_count": 55,
   "metadata": {},
   "outputs": [
    {
     "data": {
      "text/html": [
       "<div>\n",
       "<style scoped>\n",
       "    .dataframe tbody tr th:only-of-type {\n",
       "        vertical-align: middle;\n",
       "    }\n",
       "\n",
       "    .dataframe tbody tr th {\n",
       "        vertical-align: top;\n",
       "    }\n",
       "\n",
       "    .dataframe thead th {\n",
       "        text-align: right;\n",
       "    }\n",
       "</style>\n",
       "<table border=\"1\" class=\"dataframe\">\n",
       "  <thead>\n",
       "    <tr style=\"text-align: right;\">\n",
       "      <th></th>\n",
       "      <th>City</th>\n",
       "      <th>Restaurant</th>\n",
       "      <th>Date</th>\n",
       "      <th>IsHoliday</th>\n",
       "      <th>Weekly_Sales_prediction</th>\n",
       "    </tr>\n",
       "  </thead>\n",
       "  <tbody>\n",
       "    <tr>\n",
       "      <th>0</th>\n",
       "      <td>1</td>\n",
       "      <td>1</td>\n",
       "      <td>06-01-12</td>\n",
       "      <td>False</td>\n",
       "      <td>5155.330860</td>\n",
       "    </tr>\n",
       "    <tr>\n",
       "      <th>1</th>\n",
       "      <td>1</td>\n",
       "      <td>1</td>\n",
       "      <td>13-01-12</td>\n",
       "      <td>False</td>\n",
       "      <td>34314.877365</td>\n",
       "    </tr>\n",
       "    <tr>\n",
       "      <th>2</th>\n",
       "      <td>1</td>\n",
       "      <td>1</td>\n",
       "      <td>20-01-12</td>\n",
       "      <td>False</td>\n",
       "      <td>-3081.987035</td>\n",
       "    </tr>\n",
       "    <tr>\n",
       "      <th>3</th>\n",
       "      <td>1</td>\n",
       "      <td>1</td>\n",
       "      <td>27-01-12</td>\n",
       "      <td>False</td>\n",
       "      <td>12123.573050</td>\n",
       "    </tr>\n",
       "    <tr>\n",
       "      <th>4</th>\n",
       "      <td>1</td>\n",
       "      <td>1</td>\n",
       "      <td>03-02-12</td>\n",
       "      <td>False</td>\n",
       "      <td>12471.661805</td>\n",
       "    </tr>\n",
       "  </tbody>\n",
       "</table>\n",
       "</div>"
      ],
      "text/plain": [
       "   City  Restaurant      Date  IsHoliday  Weekly_Sales_prediction\n",
       "0     1           1  06-01-12      False              5155.330860\n",
       "1     1           1  13-01-12      False             34314.877365\n",
       "2     1           1  20-01-12      False             -3081.987035\n",
       "3     1           1  27-01-12      False             12123.573050\n",
       "4     1           1  03-02-12      False             12471.661805"
      ]
     },
     "execution_count": 55,
     "metadata": {},
     "output_type": "execute_result"
    }
   ],
   "source": [
    "test_predicted.head()"
   ]
  },
  {
   "cell_type": "code",
   "execution_count": 56,
   "metadata": {},
   "outputs": [],
   "source": [
    "test_predicted.to_csv('test_predicted.csv')"
   ]
  },
  {
   "cell_type": "markdown",
   "metadata": {},
   "source": [
    "end."
   ]
  }
 ],
 "metadata": {
  "interpreter": {
   "hash": "fc303df08b3d6126821f93a5ef5fb23b21b4b442f99ee21cb6ef7a22fe5dc059"
  },
  "kernelspec": {
   "display_name": "Python 3 (ipykernel)",
   "language": "python",
   "name": "python3"
  },
  "language_info": {
   "codemirror_mode": {
    "name": "ipython",
    "version": 3
   },
   "file_extension": ".py",
   "mimetype": "text/x-python",
   "name": "python",
   "nbconvert_exporter": "python",
   "pygments_lexer": "ipython3",
   "version": "3.9.6"
  }
 },
 "nbformat": 4,
 "nbformat_minor": 2
}
